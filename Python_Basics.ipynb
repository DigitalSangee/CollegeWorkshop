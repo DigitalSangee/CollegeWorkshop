{
  "nbformat": 4,
  "nbformat_minor": 0,
  "metadata": {
    "colab": {
      "provenance": [],
      "authorship_tag": "ABX9TyOEyIt7d80HihK2Kyu/tmB2",
      "include_colab_link": true
    },
    "kernelspec": {
      "name": "python3",
      "display_name": "Python 3"
    },
    "language_info": {
      "name": "python"
    }
  },
  "cells": [
    {
      "cell_type": "markdown",
      "metadata": {
        "id": "view-in-github",
        "colab_type": "text"
      },
      "source": [
        "<a href=\"https://colab.research.google.com/github/DigitalSangee/CollegeWorkshop/blob/main/Python_Basics.ipynb\" target=\"_parent\"><img src=\"https://colab.research.google.com/assets/colab-badge.svg\" alt=\"Open In Colab\"/></a>"
      ]
    },
    {
      "cell_type": "markdown",
      "source": [
        " **Printing to the Console**\n"
      ],
      "metadata": {
        "id": "ZeNZkFh17stN"
      }
    },
    {
      "cell_type": "code",
      "source": [
        "print(\"Hello, World!\")"
      ],
      "metadata": {
        "id": "C0m5t3gg8Hjf"
      },
      "execution_count": null,
      "outputs": []
    },
    {
      "cell_type": "markdown",
      "source": [
        "**Variables and Data Types**"
      ],
      "metadata": {
        "id": "pnCLdjZu8InN"
      }
    },
    {
      "cell_type": "code",
      "source": [
        "name = \"John\"\n",
        "age = 25\n",
        "height = 1.75\n",
        "is_student = True\n",
        "\n",
        "print(\"Name:\", name)\n",
        "print(\"age:\", age)\n",
        "print(\"height:\", height)\n",
        "print(\"is_student:\", is_student)\n"
      ],
      "metadata": {
        "id": "VTkeJPDi8OVP"
      },
      "execution_count": null,
      "outputs": []
    },
    {
      "cell_type": "markdown",
      "source": [
        "**Basic Operations**"
      ],
      "metadata": {
        "id": "s1rxQ7Af8QoF"
      }
    },
    {
      "cell_type": "code",
      "source": [
        "a = 10\n",
        "b = 5\n",
        "\n",
        "sum_result = a + b\n",
        "difference_result = a - b\n",
        "product_result = a * b\n",
        "division_result = a / b\n",
        "remainder_result = a % b\n",
        "\n",
        "print(sum_result, difference_result, product_result, division_result, remainder_result)\n"
      ],
      "metadata": {
        "id": "DKzN6Yfq8Y8e"
      },
      "execution_count": null,
      "outputs": []
    },
    {
      "cell_type": "markdown",
      "source": [
        "**Input from the User**"
      ],
      "metadata": {
        "id": "iC_bloJg81Ff"
      }
    },
    {
      "cell_type": "code",
      "source": [
        "user_input = input(\"Enter your name: \")\n",
        "print(\"Hello, \" + user_input + \"!\")\n"
      ],
      "metadata": {
        "id": "otz6sZx-82s1"
      },
      "execution_count": null,
      "outputs": []
    },
    {
      "cell_type": "markdown",
      "source": [
        "**Conditional Statements**"
      ],
      "metadata": {
        "id": "soUjkfJL8_Vm"
      }
    },
    {
      "cell_type": "code",
      "source": [
        "age = int(input(\"Enter your age: \"))\n",
        "\n",
        "if age < 18:\n",
        "    print(\"You are a minor.\")\n",
        "elif age >= 18 and age < 65:\n",
        "    print(\"You are an adult.\")\n",
        "else:\n",
        "    print(\"You are a senior citizen.\")\n"
      ],
      "metadata": {
        "id": "rfmPZ0Tf9CZ2"
      },
      "execution_count": null,
      "outputs": []
    },
    {
      "cell_type": "markdown",
      "source": [
        "**Loops**"
      ],
      "metadata": {
        "id": "87oBLym99Gp1"
      }
    },
    {
      "cell_type": "code",
      "source": [
        "# Using a for loop to print numbers from 1 to 5\n",
        "for i in range(1, 6):\n",
        "    print(i)\n",
        "\n",
        "# Using a while loop to count down from 5 to 1\n",
        "count = 5\n",
        "while count > 0:\n",
        "    print(count)\n",
        "    count -= 1\n"
      ],
      "metadata": {
        "id": "XaKwDLkd9I3V"
      },
      "execution_count": null,
      "outputs": []
    },
    {
      "cell_type": "markdown",
      "source": [
        "**Lists**"
      ],
      "metadata": {
        "id": "96PncyfW9RJt"
      }
    },
    {
      "cell_type": "code",
      "source": [
        "fruits = [\"apple\", \"banana\", \"cherry\"]\n",
        "fruits.append(\"orange\")  # Adding an item\n",
        "fruits.remove(\"banana\")  # Removing an item\n",
        "for i in range(0, 3):\n",
        "    print(fruits[i])"
      ],
      "metadata": {
        "colab": {
          "base_uri": "https://localhost:8080/"
        },
        "id": "rAZEG5qE9SCV",
        "outputId": "92d09d47-1496-42b1-8de8-0c4c401ba0b8"
      },
      "execution_count": null,
      "outputs": [
        {
          "output_type": "stream",
          "name": "stdout",
          "text": [
            "apple\n",
            "cherry\n",
            "orange\n"
          ]
        }
      ]
    },
    {
      "cell_type": "markdown",
      "source": [
        "**Functions**"
      ],
      "metadata": {
        "id": "swF9-IcB-HxU"
      }
    },
    {
      "cell_type": "code",
      "source": [
        "def greet(name):\n",
        "    return \"Hello, \" + name + \"!\"\n",
        "\n",
        "message = greet(\"Alice\")\n",
        "print(message)\n"
      ],
      "metadata": {
        "id": "eITFogmx-I3e"
      },
      "execution_count": null,
      "outputs": []
    }
  ]
}