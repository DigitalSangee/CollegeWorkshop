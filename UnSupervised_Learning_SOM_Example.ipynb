{
  "nbformat": 4,
  "nbformat_minor": 0,
  "metadata": {
    "colab": {
      "provenance": [],
      "authorship_tag": "ABX9TyMgJPEj3CMvj2Y5cIe7UVLg",
      "include_colab_link": true
    },
    "kernelspec": {
      "name": "python3",
      "display_name": "Python 3"
    },
    "language_info": {
      "name": "python"
    }
  },
  "cells": [
    {
      "cell_type": "markdown",
      "metadata": {
        "id": "view-in-github",
        "colab_type": "text"
      },
      "source": [
        "<a href=\"https://colab.research.google.com/github/DigitalSangee/CollegeWorkshop/blob/main/UnSupervised_Learning_Simple_Example.ipynb\" target=\"_parent\"><img src=\"https://colab.research.google.com/assets/colab-badge.svg\" alt=\"Open In Colab\"/></a>"
      ]
    },
    {
      "cell_type": "code",
      "execution_count": null,
      "metadata": {
        "id": "uSqzTjezAij5"
      },
      "outputs": [],
      "source": [
        "import numpy as np\n",
        "from minisom import MiniSom\n",
        "import matplotlib.pyplot as plt\n",
        "\n",
        "# Generate synthetic customer data (features: age, income, and purchase amount)\n",
        "np.random.seed(0)\n",
        "data = np.random.rand(200, 3)\n",
        "\n",
        "# Normalize the data to the range [0, 1]\n",
        "data = (data - np.min(data, axis=0)) / (np.max(data, axis=0) - np.min(data, axis=0))\n",
        "\n",
        "# Define the SOM grid dimensions\n",
        "grid_rows = 10\n",
        "grid_cols = 10\n",
        "\n",
        "# Initialize the SOM with the grid dimensions and input dimensions\n",
        "som = MiniSom(grid_rows, grid_cols, 3, sigma=1.0, learning_rate=0.5)\n",
        "\n",
        "# Train the SOM using the data for 1000 iterations\n",
        "som.train_random(data, 1000)\n",
        "\n",
        "# Assign each data point to its closest cluster (BMU)\n",
        "winning_clusters = np.array([som.winner(data[i]) for i in range(len(data))])\n",
        "\n",
        "# Flatten the winning_clusters array to match the number of data points\n",
        "winning_clusters_flat = winning_clusters[:, 0] + winning_clusters[:, 1] * grid_cols\n",
        "\n",
        "# Create a scatter plot to visualize the clusters\n",
        "plt.figure(figsize=(8, 6))\n",
        "plt.scatter(data[:, 0], data[:, 1], c=winning_clusters_flat, cmap='tab10', s=50)\n",
        "plt.title('Customer Clustering with SOM')\n",
        "plt.xlabel('Age')\n",
        "plt.ylabel('Income')\n",
        "plt.colorbar()\n",
        "plt.grid(True)\n",
        "plt.show()\n"
      ]
    }
  ]
}
